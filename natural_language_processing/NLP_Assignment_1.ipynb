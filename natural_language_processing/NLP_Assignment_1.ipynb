{
 "cells": [
  {
   "cell_type": "markdown",
   "metadata": {},
   "source": [
    "# NLP Assignment 1 (40% of grade): Text classification for Fake News Detection\n",
    "\n",
    "This coursework will involve you implementing functions for a text classifier, which you will train to detect **fake news** in a corpus of approx. 10,000 statements, which will be split into a 80%/20% training/test split. \n",
    "\n",
    "In this template you are given the basis for that implementation, though some of the functions are missing, which you have to fill in.\n",
    "\n",
    "Follow the instructions file **NLP_Assignment_1_Instructions.pdf** for details of each question - the outline of what needs to be achieved for each question is as below.\n",
    "\n",
    "You must submit all **ipython notebooks and extra resources you need to run the code if you've added them** in the code submission, and a **2 page report (pdf)** in the report submission on QMPlus where you report your methods and findings according to the instructions file for each question."
   ]
  },
  {
   "cell_type": "code",
   "execution_count": 1,
   "metadata": {},
   "outputs": [
    {
     "name": "stdout",
     "output_type": "stream",
     "text": [
      "Requirement already satisfied: nltk in /opt/anaconda3/lib/python3.9/site-packages (3.7)\n",
      "Requirement already satisfied: click in /opt/anaconda3/lib/python3.9/site-packages (from nltk) (8.0.4)\n",
      "Requirement already satisfied: joblib in /opt/anaconda3/lib/python3.9/site-packages (from nltk) (1.1.0)\n",
      "Requirement already satisfied: tqdm in /opt/anaconda3/lib/python3.9/site-packages (from nltk) (4.64.0)\n",
      "Requirement already satisfied: regex>=2021.8.3 in /opt/anaconda3/lib/python3.9/site-packages (from nltk) (2022.3.15)\n"
     ]
    }
   ],
   "source": [
    "!pip install nltk"
   ]
  },
  {
   "cell_type": "code",
   "execution_count": 2,
   "metadata": {},
   "outputs": [],
   "source": [
    "import csv                               # csv reader\n",
    "from sklearn.svm import LinearSVC\n",
    "from nltk.classify import SklearnClassifier\n",
    "from sklearn.pipeline import Pipeline\n",
    "from sklearn.metrics import precision_recall_fscore_support # to report on precision and recall\n",
    "import numpy as np"
   ]
  },
  {
   "cell_type": "code",
   "execution_count": 3,
   "metadata": {},
   "outputs": [],
   "source": [
    "def load_data(path):\n",
    "    \"\"\"Load data from a tab-separated file and append it to raw_data.\"\"\"\n",
    "    with open(path) as f:\n",
    "        reader = csv.reader(f, delimiter='\\t')\n",
    "        for line in reader:\n",
    "            if line[0] == \"Id\":  # skip header\n",
    "                continue\n",
    "            (label, text) = parse_data_line(line)\n",
    "            raw_data.append((text, label))\n",
    "\n",
    "def split_and_preprocess_data(percentage):\n",
    "    \"\"\"Split the data between train_data and test_data according to the percentage\n",
    "    and performs the preprocessing.\"\"\"\n",
    "    num_samples = len(raw_data)\n",
    "    num_training_samples = int((percentage * num_samples))\n",
    "    for (text, label) in raw_data[:num_training_samples]:\n",
    "        train_data.append((to_feature_vector(pre_process(text)),label))\n",
    "    for (text, label) in raw_data[num_training_samples:]:\n",
    "        test_data.append((to_feature_vector(pre_process(text)),label))"
   ]
  },
  {
   "cell_type": "markdown",
   "metadata": {},
   "source": [
    "# Question 1: Input and Basic preprocessing (10 marks)"
   ]
  },
  {
   "cell_type": "code",
   "execution_count": 4,
   "metadata": {},
   "outputs": [],
   "source": [
    "import re # import regular expression library \n",
    "def convert_label(label):\n",
    "    \"\"\"Converts the multiple classes into two,\n",
    "    making it a binary distinction between fake news and real.\"\"\"\n",
    "    #return label\n",
    "    # Converting the multiclass labels to binary label\n",
    "    labels_map = {\n",
    "        'true': 'REAL',\n",
    "        'mostly-true': 'REAL',\n",
    "        'half-true': 'REAL',\n",
    "        'false': 'FAKE',\n",
    "        'barely-true': 'FAKE',\n",
    "        'pants-fire': 'FAKE'\n",
    "    }\n",
    "    return labels_map[label]\n",
    "\n",
    "\n",
    "def parse_data_line(data_line):\n",
    "    # Should return a tuple of the label as just FAKE or REAL and the statement\n",
    "    # e.g. (label, statement)\n",
    "    label = convert_label(data_line[1])\n",
    "    #label from the third column of data_line \n",
    "    statement = data_line[2]\n",
    "    #assign statement variable to 3rd column\n",
    "    return (label, statement)"
   ]
  },
  {
   "cell_type": "code",
   "execution_count": 5,
   "metadata": {},
   "outputs": [],
   "source": [
    "# Input: a string of one statement\n",
    "def pre_process(text):\n",
    "    # This will separate punctuation at ends of strings\n",
    "    text = re.sub(r\"(\\w)([.,;:!?'\\\"”\\)])\", r\"\\1 \\2\", text)\n",
    "    # This will separates punctuation at beginning of strings\n",
    "    text = re.sub(r\"([.,;:!?'\\\"“\\(\\)])(\\w)\", r\"\\1 \\2\", text)\n",
    "    # Now we can split the text on the white-space\n",
    "    tokens = re.split(r\"\\s+\",text)\n",
    "    # normalisation all the tokens to lowercase\n",
    "    tokens = [t.lower() for t in tokens]\n",
    "    return tokens"
   ]
  },
  {
   "cell_type": "markdown",
   "metadata": {},
   "source": [
    "# Question 2: Basic Feature Extraction (20 marks)"
   ]
  },
  {
   "cell_type": "code",
   "execution_count": 6,
   "metadata": {},
   "outputs": [],
   "source": [
    "from sklearn.feature_extraction.text import CountVectorizer\n",
    "#import CountVectorizer to use frequency feature functionality\n",
    "\n",
    "global_feature_dict = {} # A global dictionary of features\n",
    "\n",
    "def to_feature_vector(tokens):\n",
    "    # Should return a dictionary containing features as keys, and weights as values\n",
    "    # DESCRIBE YOUR METHOD IN WORDS\n",
    "    feature_dict = {}\n",
    "    # create local dictionary to take values \n",
    "    \n",
    "    #iterate through tokens\n",
    "    for t in tokens:\n",
    "        if t in feature_dict:\n",
    "            feature_dict[t.lower()] += 1\n",
    "            #if in dictionary increase value by 1\n",
    "        else:\n",
    "             feature_dict[t.lower()] = 1\n",
    "                # if not in dictionary set value to 1 against key\n",
    "    temp = feature_dict\n",
    "    #\n",
    "    global_feature_dict.update(temp)\n",
    "    #update and append to global dictionary the features dictionary\n",
    "    return feature_dict"
   ]
  },
  {
   "cell_type": "code",
   "execution_count": 7,
   "metadata": {},
   "outputs": [],
   "source": [
    "# TRAINING AND VALIDATING OUR CLASSIFIER\n",
    "\n",
    "def train_classifier(data):\n",
    "    print(\"Training Classifier...\")\n",
    "    pipeline =  Pipeline([('svc', LinearSVC(max_iter=2000))])\n",
    "    #use svc classifier on data\n",
    "    #set max iterations to remove warning of infinite loop \n",
    "    \n",
    "    return SklearnClassifier(pipeline).train(data)"
   ]
  },
  {
   "cell_type": "markdown",
   "metadata": {},
   "source": [
    "# Question 3: Cross-validation (20 marks)"
   ]
  },
  {
   "cell_type": "code",
   "execution_count": 8,
   "metadata": {},
   "outputs": [],
   "source": [
    "#solution\n",
    "from sklearn.metrics import classification_report\n",
    "#import classification report library for reporting on model \n",
    "\n",
    "\n",
    "def cross_validate(dataset, folds):\n",
    "    results = []\n",
    "    fold_size = int(len(dataset)/folds) + 1\n",
    "    \n",
    "    for i in range(0,len(dataset),int(fold_size)):\n",
    "        #code here that trains and tests on the 10 folds of data in the dataset\n",
    "        train_sample = dataset[:i] + dataset[i+fold_size:]\n",
    "        #training sample is computed to generate dynamically from each iteration \n",
    "        test_sample = dataset[i:i+fold_size]\n",
    "        #test sample is computed to generate dynamically from each iteration \n",
    "        cross_v = train_classifier(train_sample)\n",
    "        # call train_classifier function on train sample\n",
    "        print(\"Fold start on items %d - %d\" % (i, i+fold_size))\n",
    "        \n",
    "        # FILL IN THE METHOD HERE\n",
    "        \n",
    "        test_x = [i[0] for i in test_sample]\n",
    "        #take first row from iteration for x\n",
    "        test_y = [i[1] for i in test_sample]\n",
    "        #take second row from iteration for y\n",
    "        labels = predict_labels(test_x, cross_v)\n",
    "        class_repo = classification_report(test_y,labels,output_dict=True)\n",
    "        \n",
    "        print(class_repo)\n",
    "             #print the classification report \n",
    "        \n",
    "        #calculate precision, recall, f1 and accuracy \n",
    "        prec = class_repo['REAL']['precision']\n",
    "        avg_prec = np.mean([prec])\n",
    "        \n",
    "        rec = class_repo['REAL']['recall']\n",
    "        avg_rec = np.mean([rec])\n",
    "        \n",
    "        f1_score = class_repo['REAL']['f1-score']\n",
    "        avg_f1 = np.mean([f1_score])\n",
    "        \n",
    "        acc = class_repo['accuracy']\n",
    "        avg_acc = np.mean([acc])\n",
    "        \n",
    "        results = [avg_prec,avg_rec,avg_f1,avg_acc]\n",
    "    \n",
    "    return results"
   ]
  },
  {
   "cell_type": "code",
   "execution_count": 9,
   "metadata": {},
   "outputs": [],
   "source": [
    "# PREDICTING LABELS GIVEN A CLASSIFIER\n",
    "\n",
    "def predict_labels(samples, classifier):\n",
    "    \"\"\"Assuming preprocessed samples, return their predicted labels from the classifier model.\"\"\"\n",
    "    return classifier.classify_many(samples)\n",
    "\n",
    "def predict_label_from_raw(sample, classifier):\n",
    "    \"\"\"Assuming raw text, return its predicted label from the classifier model.\"\"\"\n",
    "    return classifier.classify(to_feature_vector(preProcess(reviewSample)))"
   ]
  },
  {
   "cell_type": "code",
   "execution_count": 10,
   "metadata": {},
   "outputs": [
    {
     "name": "stdout",
     "output_type": "stream",
     "text": [
      "Now 0 rawData, 0 trainData, 0 testData\n",
      "Preparing the dataset...\n",
      "Now 10241 rawData, 0 trainData, 0 testData\n",
      "Preparing training and test data...\n",
      "After split, 10241 rawData, 8192 trainData, 2049 testData\n",
      "Training Samples: \n",
      "8192\n",
      "Features: \n",
      "13560\n"
     ]
    }
   ],
   "source": [
    "# MAIN\n",
    "\n",
    "# loading reviews\n",
    "# initialize global lists that will be appended to by the methods below\n",
    "raw_data = []          # the filtered data from the dataset file\n",
    "train_data = []        # the pre-processed training data as a percentage of the total dataset\n",
    "test_data = []         # the pre-processed test data as a percentage of the total dataset\n",
    "\n",
    "\n",
    "# references to the data files\n",
    "data_file_path = 'fake_news.tsv'\n",
    "\n",
    "# Do the actual stuff (i.e. call the functions we've made)\n",
    "# We parse the dataset and put it in a raw data list\n",
    "print(\"Now %d rawData, %d trainData, %d testData\" % (len(raw_data), len(train_data), len(test_data)),\n",
    "      \"Preparing the dataset...\",sep='\\n')\n",
    "\n",
    "load_data(data_file_path) \n",
    "\n",
    "# We split the raw dataset into a set of training data and a set of test data (80/20)\n",
    "# You do the cross validation on the 80% (training data)\n",
    "# We print the number of training samples and the number of features before the split\n",
    "print(\"Now %d rawData, %d trainData, %d testData\" % (len(raw_data), len(train_data), len(test_data)),\n",
    "      \"Preparing training and test data...\",sep='\\n')\n",
    "\n",
    "split_and_preprocess_data(0.8)\n",
    "\n",
    "# We print the number of training samples and the number of features after the split\n",
    "print(\"After split, %d rawData, %d trainData, %d testData\" % (len(raw_data), len(train_data), len(test_data)),\n",
    "      \"Training Samples: \", len(train_data), \"Features: \", len(global_feature_dict), sep='\\n')\n"
   ]
  },
  {
   "cell_type": "code",
   "execution_count": 11,
   "metadata": {},
   "outputs": [
    {
     "name": "stdout",
     "output_type": "stream",
     "text": [
      "Training Classifier...\n",
      "Fold start on items 0 - 820\n",
      "{'FAKE': {'precision': 0.49162011173184356, 'recall': 0.5191740412979351, 'f1-score': 0.5050215208034433, 'support': 339}, 'REAL': {'precision': 0.6471861471861472, 'recall': 0.6216216216216216, 'f1-score': 0.6341463414634146, 'support': 481}, 'accuracy': 0.5792682926829268, 'macro avg': {'precision': 0.5694031294589954, 'recall': 0.5703978314597784, 'f1-score': 0.569583931133429, 'support': 820}, 'weighted avg': {'precision': 0.5828728715532094, 'recall': 0.5792682926829268, 'f1-score': 0.5807642509710605, 'support': 820}}\n",
      "Training Classifier...\n",
      "Fold start on items 820 - 1640\n",
      "{'FAKE': {'precision': 0.509641873278237, 'recall': 0.49333333333333335, 'f1-score': 0.5013550135501356, 'support': 375}, 'REAL': {'precision': 0.5842450765864332, 'recall': 0.6, 'f1-score': 0.5920177383592018, 'support': 445}, 'accuracy': 0.551219512195122, 'macro avg': {'precision': 0.5469434749323351, 'recall': 0.5466666666666666, 'f1-score': 0.5466863759546687, 'support': 820}, 'weighted avg': {'precision': 0.5501277580003678, 'recall': 0.551219512195122, 'f1-score': 0.5505561264038361, 'support': 820}}\n",
      "Training Classifier...\n",
      "Fold start on items 1640 - 2460\n",
      "{'FAKE': {'precision': 0.5591715976331361, 'recall': 0.48214285714285715, 'f1-score': 0.5178082191780823, 'support': 392}, 'REAL': {'precision': 0.578838174273859, 'recall': 0.6518691588785047, 'f1-score': 0.6131868131868132, 'support': 428}, 'accuracy': 0.5707317073170731, 'macro avg': {'precision': 0.5690048859534975, 'recall': 0.5670060080106809, 'f1-score': 0.5654975161824478, 'support': 820}, 'weighted avg': {'precision': 0.5694365912943915, 'recall': 0.5707317073170731, 'f1-score': 0.567591192636298, 'support': 820}}\n",
      "Training Classifier...\n",
      "Fold start on items 2460 - 3280\n",
      "{'FAKE': {'precision': 0.5138121546961326, 'recall': 0.5210084033613446, 'f1-score': 0.5173852573018081, 'support': 357}, 'REAL': {'precision': 0.6266375545851528, 'recall': 0.6198704103671706, 'f1-score': 0.6232356134636264, 'support': 463}, 'accuracy': 0.5768292682926829, 'macro avg': {'precision': 0.5702248546406428, 'recall': 0.5704394068642575, 'f1-score': 0.5703104353827173, 'support': 820}, 'weighted avg': {'precision': 0.5775172280481038, 'recall': 0.5768292682926829, 'f1-score': 0.5771519827931763, 'support': 820}}\n",
      "Training Classifier...\n",
      "Fold start on items 3280 - 4100\n",
      "{'FAKE': {'precision': 0.49411764705882355, 'recall': 0.4827586206896552, 'f1-score': 0.4883720930232558, 'support': 348}, 'REAL': {'precision': 0.625, 'recall': 0.635593220338983, 'f1-score': 0.6302521008403361, 'support': 472}, 'accuracy': 0.5707317073170731, 'macro avg': {'precision': 0.5595588235294118, 'recall': 0.5591759205143191, 'f1-score': 0.559312096931796, 'support': 820}, 'weighted avg': {'precision': 0.569454806312769, 'recall': 0.5707317073170731, 'f1-score': 0.5700396097179654, 'support': 820}}\n",
      "Training Classifier...\n",
      "Fold start on items 4100 - 4920\n",
      "{'FAKE': {'precision': 0.47246376811594204, 'recall': 0.4670487106017192, 'f1-score': 0.4697406340057637, 'support': 349}, 'REAL': {'precision': 0.608421052631579, 'recall': 0.613588110403397, 'f1-score': 0.6109936575052853, 'support': 471}, 'accuracy': 0.551219512195122, 'macro avg': {'precision': 0.5404424103737605, 'recall': 0.5403184105025581, 'f1-score': 0.5403671457555246, 'support': 820}, 'weighted avg': {'precision': 0.550556305929192, 'recall': 0.551219512195122, 'f1-score': 0.5508749926256109, 'support': 820}}\n",
      "Training Classifier...\n",
      "Fold start on items 4920 - 5740\n",
      "{'FAKE': {'precision': 0.4986149584487535, 'recall': 0.5157593123209169, 'f1-score': 0.5070422535211268, 'support': 349}, 'REAL': {'precision': 0.6318082788671024, 'recall': 0.6157112526539278, 'f1-score': 0.6236559139784946, 'support': 471}, 'accuracy': 0.573170731707317, 'macro avg': {'precision': 0.5652116186579279, 'recall': 0.5657352824874223, 'f1-score': 0.5653490837498107, 'support': 820}, 'weighted avg': {'precision': 0.5751199022500246, 'recall': 0.573170731707317, 'f1-score': 0.5740240023935905, 'support': 820}}\n",
      "Training Classifier...\n",
      "Fold start on items 5740 - 6560\n",
      "{'FAKE': {'precision': 0.5028901734104047, 'recall': 0.48739495798319327, 'f1-score': 0.49502133712660035, 'support': 357}, 'REAL': {'precision': 0.6139240506329114, 'recall': 0.6285097192224622, 'f1-score': 0.6211312700106724, 'support': 463}, 'accuracy': 0.5670731707317073, 'macro avg': {'precision': 0.558407112021658, 'recall': 0.5579523386028278, 'f1-score': 0.5580763035686364, 'support': 820}, 'weighted avg': {'precision': 0.5655836918909176, 'recall': 0.5670731707317073, 'f1-score': 0.5662273114257775, 'support': 820}}\n",
      "Training Classifier...\n",
      "Fold start on items 6560 - 7380\n",
      "{'FAKE': {'precision': 0.47480106100795755, 'recall': 0.4931129476584022, 'f1-score': 0.4837837837837837, 'support': 363}, 'REAL': {'precision': 0.5846501128668171, 'recall': 0.5667396061269147, 'f1-score': 0.5755555555555556, 'support': 457}, 'accuracy': 0.5341463414634147, 'macro avg': {'precision': 0.5297255869373874, 'recall': 0.5299262768926585, 'f1-score': 0.5296696696696697, 'support': 820}, 'weighted avg': {'precision': 0.5360218130805171, 'recall': 0.5341463414634147, 'f1-score': 0.53492975902732, 'support': 820}}\n",
      "Training Classifier...\n",
      "Fold start on items 7380 - 8200\n",
      "{'FAKE': {'precision': 0.5274725274725275, 'recall': 0.5765765765765766, 'f1-score': 0.550932568149211, 'support': 333}, 'REAL': {'precision': 0.6852678571428571, 'recall': 0.6409185803757829, 'f1-score': 0.6623516720604099, 'support': 479}, 'accuracy': 0.6145320197044335, 'macro avg': {'precision': 0.6063701923076923, 'recall': 0.6087475784761798, 'f1-score': 0.6066421201048104, 'support': 812}, 'weighted avg': {'precision': 0.6205562256401234, 'recall': 0.6145320197044335, 'f1-score': 0.6166588622052015, 'support': 812}}\n"
     ]
    },
    {
     "data": {
      "text/plain": [
       "[0.6852678571428571,\n",
       " 0.6409185803757829,\n",
       " 0.6623516720604099,\n",
       " 0.6145320197044335]"
      ]
     },
     "execution_count": 11,
     "metadata": {},
     "output_type": "execute_result"
    }
   ],
   "source": [
    "cross_validate(train_data, 10)  # will work and output overall performance of p, r, f-score when cv implemented"
   ]
  },
  {
   "cell_type": "markdown",
   "metadata": {},
   "source": [
    "# 4. Error Analysis (10 marks)"
   ]
  },
  {
   "cell_type": "code",
   "execution_count": 12,
   "metadata": {},
   "outputs": [],
   "source": [
    "from sklearn import metrics\n",
    "import matplotlib.pyplot as plt\n",
    "# a function to make the confusion matrix readable and pretty\n",
    "def confusion_matrix_heatmap(y_test, preds, labels):\n",
    "    \"\"\"Function to plot a confusion matrix\"\"\"\n",
    "    # pass labels to the confusion matrix function to ensure right order\n",
    "    cm = metrics.confusion_matrix(y_test, preds, labels=['REAL','FAKE'])\n",
    "    fig = plt.figure(figsize=(10,10))\n",
    "    ax = fig.add_subplot(111)\n",
    "    cax = ax.matshow(cm)\n",
    "    plt.title('Confusion matrix of the classifier')\n",
    "    fig.colorbar(cax)\n",
    "    ax.set_xticks(np.arange(len(labels)))\n",
    "    ax.set_yticks(np.arange(len(labels)))\n",
    "    ax.set_xticklabels( labels, rotation=45)\n",
    "    ax.set_yticklabels( labels)\n",
    "\n",
    "    for i in range(len(cm)):\n",
    "        for j in range(len(cm)):\n",
    "            text = ax.text(j, i, cm[i, j],\n",
    "                           ha=\"center\", va=\"center\", color=\"w\")\n",
    "\n",
    "    plt.xlabel('Predicted')\n",
    "    plt.ylabel('True')\n",
    "    \n",
    "    # fix for mpl bug that cuts off top/bottom of seaborn viz:\n",
    "    b, t = plt.ylim() # discover the values for bottom and top\n",
    "    b += 0.5 # Add 0.5 to the bottom\n",
    "    t -= 0.5 # Subtract 0.5 from the top\n",
    "    plt.ylim(b, t) # update the ylim(bottom, top) values\n",
    "    plt.show() # ta-da!\n",
    "    plt.show()"
   ]
  },
  {
   "cell_type": "code",
   "execution_count": 13,
   "metadata": {},
   "outputs": [
    {
     "name": "stdout",
     "output_type": "stream",
     "text": [
      "Training Classifier...\n",
      "              precision    recall  f1-score   support\n",
      "\n",
      "        FAKE       0.52      0.51      0.51       926\n",
      "        REAL       0.60      0.60      0.60      1123\n",
      "\n",
      "    accuracy                           0.56      2049\n",
      "   macro avg       0.56      0.56      0.56      2049\n",
      "weighted avg       0.56      0.56      0.56      2049\n",
      "\n"
     ]
    }
   ],
   "source": [
    "cross_val = train_classifier(train_data)\n",
    "x = [i[0] for i in test_data]\n",
    "y = [i[1] for i in test_data]\n",
    "\n",
    "pred = predict_labels(x, cross_val)\n",
    "results = classification_report(y, pred)\n",
    "#work out the validity of the training data from the model\n",
    "#apply to the tst data and display results \n",
    "print(results)"
   ]
  },
  {
   "cell_type": "code",
   "execution_count": 14,
   "metadata": {},
   "outputs": [
    {
     "data": {
      "image/png": "[encoded data removed]",
      "text/plain": [
       "<Figure size 720x720 with 2 Axes>"
      ]
     },
     "metadata": {
      "needs_background": "light"
     },
     "output_type": "display_data"
    }
   ],
   "source": [
    "confusion_matrix_heatmap(y, pred, labels=['REAL','Fake'])\n",
    "#display confusion matrix for visualisation on false negative false positives true negatives and true positives"
   ]
  },
  {
   "cell_type": "code",
   "execution_count": 15,
   "metadata": {},
   "outputs": [],
   "source": [
    "# document creator to take the false negatives and false positives and document this which can be used for analysis\n",
    "\n",
    "f_size = int((len(test_data)/10)+1)\n",
    "test = test_data[0:0+f_size]\n",
    "x_error = [i[0] for i in test]\n",
    "y_error = [i[1] for i in test]\n",
    "error = predict_labels(x_error,cross_val)\n",
    "\n",
    "for i in range(len(error)):\n",
    "    #iterate through errors check if false positive or negative and seperate out \n",
    "    if pred[i] == 'REAL':\n",
    "        if y_error[i]== 'FAKE':\n",
    "            with open('false_pos.txt','a') as f:\n",
    "                print('\\n false positive => predicted: REAL => ground truth: FAKE\\n', x_error[i], file=f)\n",
    "                \n",
    "        else:\n",
    "            if y_error[i] == 'REAL':\n",
    "                with open('false_neg.txt','a') as f:\n",
    "                    print('\\n false negative => predicted: FAKE => ground truth: Real\\n', x_error[i], file=f)"
   ]
  },
  {
   "cell_type": "markdown",
   "metadata": {},
   "source": [
    "# Questions 5 (20%) and 6 (20%) (recommend starting a new notebook)"
   ]
  },
  {
   "cell_type": "code",
   "execution_count": 16,
   "metadata": {},
   "outputs": [
    {
     "name": "stdout",
     "output_type": "stream",
     "text": [
      "({'the': 2, 'bush': 1, 'tax': 1, 'cuts': 1, 'helped': 1, 'to': 1, 'create': 1, 'a': 1, 'substantial': 1, 'part': 1, 'of': 1, 'deficit': 1, '.': 1}, 'REAL')\n",
      "Training Classifier...\n",
      "Done training!\n",
      "Precision: 0.562467\n",
      "Recall: 0.562714\n",
      "F Score:0.562585\n"
     ]
    }
   ],
   "source": [
    "# Finally, check the accuracy of your classifier by training on all the traning data\n",
    "# and testing on the test set\n",
    "# Will only work once all functions are complete\n",
    "functions_complete = True  # set to True once you're happy with your methods for cross val\n",
    "if functions_complete:\n",
    "    print(test_data[0])   # have a look at the first test data instance\n",
    "    classifier = train_classifier(train_data)  # train the classifier\n",
    "    test_true = [t[1] for t in test_data]   # get the ground-truth labels from the data\n",
    "    test_pred = predict_labels([x[0] for x in test_data], classifier)  # classify the test data to get predicted labels\n",
    "    final_scores = precision_recall_fscore_support(test_true, test_pred, average='weighted') # evaluate\n",
    "    print(\"Done training!\")\n",
    "    print(\"Precision: %f\\nRecall: %f\\nF Score:%f\" % final_scores[:3])"
   ]
  },
  {
   "cell_type": "code",
   "execution_count": null,
   "metadata": {},
   "outputs": [],
   "source": []
  },
  {
   "cell_type": "code",
   "execution_count": null,
   "metadata": {},
   "outputs": [],
   "source": []
  }
 ],
 "metadata": {
  "kernelspec": {
   "display_name": "Python 3 (ipykernel)",
   "language": "python",
   "name": "python3"
  },
  "language_info": {
   "codemirror_mode": {
    "name": "ipython",
    "version": 3
   },
   "file_extension": ".py",
   "mimetype": "text/x-python",
   "name": "python",
   "nbconvert_exporter": "python",
   "pygments_lexer": "ipython3",
   "version": "3.9.12"
  },
  "vscode": {
   "interpreter": {
    "hash": "aee8b7b246df8f9039afb4144a1f6fd8d2ca17a180786b69acc140d282b71a49"
   }
  }
 },
 "nbformat": 4,
 "nbformat_minor": 2
}

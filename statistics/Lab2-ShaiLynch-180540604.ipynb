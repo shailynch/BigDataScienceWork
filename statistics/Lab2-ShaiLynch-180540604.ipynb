{
 "cells": [
  {
   "cell_type": "markdown",
   "id": "1cf63587",
   "metadata": {},
   "source": [
    "1. Import scipy.stats in order to access the scipy.stats.beta distribution. Using the cdf method of scipy.stats.beta deine a function called beta_measure which will take two arguments a, b and which will return the probability mass of the interval [a, b] under the probability measure Beta (3, 7), i.e. Beta (3, 7) ([a, b])\n",
    " Test your function by printing the result of: \n",
    " \n",
    "(a) beta_measure(0,1)\n",
    "\n",
    "(b) beta_measure(0,0)\n",
    "\n",
    "(c) beta_measure(0.25,0.75)\n",
    "\n",
    "(d) beta_measure(0,0.5) (e) beta_measure(0.5,1)\n",
    "\n",
    "Plot the pdf of Beta (3, 7) to check visually if your answers make sense."
   ]
  },
  {
   "cell_type": "code",
   "execution_count": 27,
   "id": "9b95903e",
   "metadata": {},
   "outputs": [],
   "source": [
    "#import require libraries\n",
    "from scipy.stats import beta\n",
    "import matplotlib.pyplot as plt\n",
    "import numpy as np\n",
    "import seaborn as sns\n",
    "from scipy.stats import kurtosis\n",
    "from scipy.stats import laplace\n",
    "from scipy.stats import probplot\n",
    "import pylab"
   ]
  },
  {
   "cell_type": "code",
   "execution_count": 4,
   "id": "cdd6a0a7",
   "metadata": {},
   "outputs": [],
   "source": [
    "#define beta measure function  \n",
    "def beta_measure(a,b):\n",
    "    x = beta.cdf([a,b],3,7) #probability calculation\n",
    "    return x[1] - x[0] #calculate probability mass\n",
    "    #returns probability mass of interval"
   ]
  },
  {
   "cell_type": "code",
   "execution_count": 5,
   "id": "96db52b3",
   "metadata": {},
   "outputs": [
    {
     "name": "stdout",
     "output_type": "stream",
     "text": [
      " The probability mass for 0,1 is 1.0\n",
      " The probability mass 0,0 is 0.0\n",
      " The probability mass 0.25,0.75 is 0.599334716796875\n",
      " The probability mass for 0,1 is 0.91015625\n",
      " The probability mass for 0,1 is 0.08984375\n"
     ]
    }
   ],
   "source": [
    "#a\n",
    "a =beta_measure(0,1)\n",
    "#b \n",
    "b = beta_measure(0,0)\n",
    "#c\n",
    "c = beta_measure(0.25,0.75)\n",
    "#(d) \n",
    "d =beta_measure(0,0.5)\n",
    "#e\n",
    "e = beta_measure(0.5,1)\n",
    "\n",
    "print(f\" The probability mass for 0,1 is {a}\")\n",
    "print(f\" The probability mass 0,0 is {b}\")\n",
    "print(f\" The probability mass 0.25,0.75 is {c}\")\n",
    "print(f\" The probability mass for 0,1 is {d}\")\n",
    "print(f\" The probability mass for 0,1 is {e}\")"
   ]
  },
  {
   "cell_type": "code",
   "execution_count": 6,
   "id": "52e69c2a",
   "metadata": {},
   "outputs": [
    {
     "data": {
      "text/plain": [
       "[1.0, 0.0, 0.599334716796875, 0.91015625, 0.08984375]"
      ]
     },
     "execution_count": 6,
     "metadata": {},
     "output_type": "execute_result"
    }
   ],
   "source": [
    "beta37 = [a,b,c,d,e]\n",
    "#populate results into array \n",
    "beta37"
   ]
  },
  {
   "cell_type": "code",
   "execution_count": 7,
   "id": "fae4d4bb",
   "metadata": {},
   "outputs": [
    {
     "data": {
      "text/plain": [
       "[<matplotlib.lines.Line2D at 0x7fbd681cfbe0>]"
      ]
     },
     "execution_count": 7,
     "metadata": {},
     "output_type": "execute_result"
    },
    {
     "data": {
      "image/png": "[encoded data removed]",
      "text/plain": [
       "<Figure size 432x288 with 1 Axes>"
      ]
     },
     "metadata": {
      "needs_background": "light"
     },
     "output_type": "display_data"
    }
   ],
   "source": [
    "#plot PDF \n",
    "x = np.linspace (0,1,100)\n",
    "y = beta.pdf(x,3,7)\n",
    "plt.title(\"Beta37 PDF\")\n",
    "plt.xlabel(\"X\")\n",
    "plt.ylabel(\"Y\")\n",
    "plt.plot(x,y)"
   ]
  },
  {
   "cell_type": "markdown",
   "id": "c8a17a74",
   "metadata": {},
   "source": [
    "The PDF is the derivative of the CDF meaning that the CDF is the intergral of the PDf, this is supported by the results from the intergration of the PDF matching the results  of the function defined and created in question 1. "
   ]
  },
  {
   "cell_type": "markdown",
   "id": "c346fd24",
   "metadata": {},
   "source": [
    "\n",
    "# Question 2\n",
    "\n",
    "Using the pdf method of scipy.stats.beta deine a function called beta_pdf which will take one argument x and return the pdf of the probability measure Beta (3, 7) evaluated at x. Import the integration routine quad from scipy.integrate. Use quad to compute and print the following integrals\n",
    "\n",
    "(a) 1 beta_pdf(x) dx 0\n",
    "\n",
    "(b) 0 beta_pdf(x) dx 0\n",
    "\n",
    "(c) 3/4 beta_pdf(x) dx 1/4\n",
    "\n",
    "(d) 1/2 beta_pdf(x) dx 0\n",
    "\n",
    "(e) 1 beta_pdf(x) dx 1/2\n",
    "\n"
   ]
  },
  {
   "cell_type": "code",
   "execution_count": 8,
   "id": "f4616837",
   "metadata": {},
   "outputs": [
    {
     "name": "stdout",
     "output_type": "stream",
     "text": [
      "1.0\n",
      "0.0\n",
      "0.5993347167968751\n",
      "0.9101562499999999\n",
      "0.08984374999999997\n"
     ]
    }
   ],
   "source": [
    "from scipy import integrate\n",
    "#define beta function using pdf method taking argument x\n",
    "def beta_pdf(x):\n",
    "    return beta.pdf(x,3,7)\n",
    "#calculate probability mass and print CDF\n",
    "a = integrate.quad(beta_pdf,0,1 )\n",
    "print(a[0])\n",
    "#b \n",
    "b = integrate.quad(beta_pdf,0,0 )\n",
    "print(b[0])\n",
    "#c\n",
    "c = integrate.quad(beta_pdf,0.25,0.75 )\n",
    "print(c[0])\n",
    "#(d) \n",
    "d = integrate.quad(beta_pdf,0,0.5 )\n",
    "print(d[0])\n",
    "#e\n",
    "e = integrate.quad(beta_pdf,0.5,1 )\n",
    "print(e[0])\n",
    "\n",
    "beta37_2 = [a,b,c,d,e]\n",
    "\n",
    "x = 0\n",
    "\n"
   ]
  },
  {
   "cell_type": "markdown",
   "id": "a2818d9e",
   "metadata": {},
   "source": [
    "# Question 3\n",
    "3. Recall from the lectures that if a probability distribution d1 has density f1 and a probability distribution d2 has density f2, then the density of the sum d1 +d2 is given by the convolution of the two densities, viz.\n",
    "Write a function which implements the integrand of the integral above, that is to say that implements f1 (x)f2 (t − x), where f1 is the density of Beta (3, 7) and f2 is the density of Beta (7, 3). (Hint: this function will need two arguments.)\n",
    "Next, generate 100 points (t1, . . . , t100) along the support of Beta (3, 7) + Beta (7, 3) (using numpy's linspace function), and using a for loop, compute the pdf f1+2(ti) at these 100 points using quad. (Hint: the documentation of quad has an example showing how to integrate a function with two arguments along its 􏰀rst argument.) Plot your result.\n",
    "Finally, generate 10000 samples from Beta (3, 7), 10000 samples from Beta (7, 3) independently, add them, and plot the histogram of these sums along with the pdf computed in the previous step. What do you observe?"
   ]
  },
  {
   "cell_type": "code",
   "execution_count": 9,
   "id": "a0bea348",
   "metadata": {},
   "outputs": [],
   "source": [
    "#define beta function for PDF's for 3,7 and 7,3\n",
    "def beta_pdfA(x):\n",
    "    pdfA = beta.pdf(x,3,7)\n",
    "    return pdfA\n",
    "\n",
    "def beta_pdfB(x):\n",
    "    pdfB = beta.pdf(x,7,3)\n",
    "    return pdfB\n",
    "    \n",
    "#define interrand function\n",
    "def intergrand(x, f1, f2, t):\n",
    "    return(f1(x)*f2(t-x))"
   ]
  },
  {
   "cell_type": "code",
   "execution_count": 11,
   "id": "29e9ff34",
   "metadata": {},
   "outputs": [
    {
     "name": "stdout",
     "output_type": "stream",
     "text": [
      "0.0\n",
      "7.877306756648536e-14\n",
      "6.953875697935422e-11\n",
      "2.2351644345551265e-09\n",
      "2.845671855137813e-08\n",
      "1.9821228161985785e-07\n",
      "9.555209830535592e-07\n",
      "3.572327583034246e-06\n",
      "1.1085871164125421e-05\n",
      "2.9834874636324073e-05\n",
      "7.174688648590836e-05\n",
      "0.0001574950143136613\n",
      "0.00032058950047012506\n",
      "0.0006124017379508888\n",
      "0.0011080400043001852\n",
      "0.0019129123056488432\n",
      "0.003169727264710335\n",
      "0.005065603789829974\n",
      "0.007838888708299834\n",
      "0.011785222635992576\n",
      "0.017262351293904684\n",
      "0.02469315533746064\n",
      "0.034566367293460576\n",
      "0.04743446411265862\n",
      "0.06390826355642248\n",
      "0.08464781840326539\n",
      "0.11034928988586029\n",
      "0.14172759190409198\n",
      "0.1794947293798766\n",
      "0.2243339061141906\n",
      "0.2768696484060597\n",
      "0.3376343787659589\n",
      "0.4070320778982375\n",
      "0.4852998905050872\n",
      "0.5724687602923931\n",
      "0.668324420069007\n",
      "0.7723703114960362\n",
      "0.8837942650422569\n",
      "1.0014410392883388\n",
      "1.1237930719315068\n",
      "1.2489620880695873\n",
      "1.374694466547255\n",
      "1.4983935524554912\n",
      "1.6171623811111695\n",
      "1.7278705570873536\n",
      "1.8272493137041335\n",
      "1.9120190595095352\n",
      "1.9790539996796324\n",
      "2.0255887020942867\n",
      "2.04947175965258\n",
      "2.049471764380395\n",
      "2.02558870239711\n",
      "1.9790539996740526\n",
      "1.912019059489119\n",
      "1.8272493136280115\n",
      "1.7278705570851065\n",
      "1.617162381125645\n",
      "1.4983935525356646\n",
      "1.3746944666075778\n",
      "1.2489620880856862\n",
      "1.123793071950424\n",
      "1.0014410393129942\n",
      "0.883794265158341\n",
      "0.7723703112580084\n",
      "0.6683244200622969\n",
      "0.5724687603404558\n",
      "0.48529989050515826\n",
      "0.4070320779059575\n",
      "0.3376343787776883\n",
      "0.27686964816746135\n",
      "0.22433390610894235\n",
      "0.17949472938555167\n",
      "0.14172759203345944\n",
      "0.11034928988734775\n",
      "0.08464781831494819\n",
      "0.06390826362363357\n",
      "0.047434464109178676\n",
      "0.034566367346123575\n",
      "0.024693155167655714\n",
      "0.0172623513225781\n",
      "0.01178522256814894\n",
      "0.007838888711937842\n",
      "0.005065603757828512\n",
      "0.0031697272634577675\n",
      "0.0019129122764759497\n",
      "0.0011080400099569997\n",
      "0.000612401735184575\n",
      "0.0003205895011708028\n",
      "0.00015749500018956482\n",
      "7.174689500090257e-05\n",
      "2.983490827286302e-05\n",
      "1.1085885452864065e-05\n",
      "0.0\n",
      "0.0\n",
      "0.0\n",
      "0.0\n",
      "0.0\n",
      "0.0\n",
      "0.0\n",
      "0.0\n"
     ]
    }
   ],
   "source": [
    "#generate values between 0 and 2\n",
    "t_values = np.linspace(0,2,100)\n",
    "results = []\n",
    "#integrate loop to populate empty list\n",
    "for t in t_values:\n",
    "    pdf12t = integrate.quad(intergrand, 0 ,2, args = (beta_pdfA, beta_pdfB, t))[0]\n",
    "    print(pdf12t)\n",
    "    results.append(pdf12t) #appending to list\n",
    "    \n"
   ]
  },
  {
   "cell_type": "code",
   "execution_count": 12,
   "id": "239205e7",
   "metadata": {},
   "outputs": [
    {
     "data": {
      "text/plain": [
       "[<matplotlib.lines.Line2D at 0x7fbd8b9cf640>]"
      ]
     },
     "execution_count": 12,
     "metadata": {},
     "output_type": "execute_result"
    },
    {
     "data": {
      "image/png": "[encoded data removed]",
      "text/plain": [
       "<Figure size 432x288 with 1 Axes>"
      ]
     },
     "metadata": {
      "needs_background": "light"
     },
     "output_type": "display_data"
    }
   ],
   "source": [
    "plt.plot(t_values, results) # plot of list results"
   ]
  },
  {
   "cell_type": "code",
   "execution_count": 13,
   "id": "9c568d1b",
   "metadata": {},
   "outputs": [
    {
     "data": {
      "text/plain": [
       "[<matplotlib.lines.Line2D at 0x7fbd78232e80>]"
      ]
     },
     "execution_count": 13,
     "metadata": {},
     "output_type": "execute_result"
    },
    {
     "data": {
      "image/png": "[encoded data removed]",
      "text/plain": [
       "<Figure size 432x288 with 1 Axes>"
      ]
     },
     "metadata": {
      "needs_background": "light"
     },
     "output_type": "display_data"
    }
   ],
   "source": [
    "sample_size = 10000\n",
    "d1 = beta.rvs(3,7, size=sample_size, random_state=20)\n",
    "d2 = beta.rvs(7,3,size=sample_size,random_state=21)\n",
    "d3 = d1+d2\n",
    "\n",
    "plt.hist(d3,density=True)\n",
    "plt.plot(t_values,results)"
   ]
  },
  {
   "cell_type": "markdown",
   "id": "ca749c61",
   "metadata": {},
   "source": [
    "From the output of the sum of each beta function I concluded that the data and peak are condensed / reduced and whilst the support increases."
   ]
  },
  {
   "cell_type": "markdown",
   "id": "3e75293c",
   "metadata": {},
   "source": [
    "# Question 4\n",
    "\n",
    "Download the last 10 years of Microsoft stock using\n",
    "           my_data = data.DataReader(’MSFT’, ’yahoo’, ’2012-11-02’, ’2022-11-02’)\n",
    "Keep the \"Close\" column and use it to compute the time series of (percentage) daily returns using the\n",
    "formula"
   ]
  },
  {
   "cell_type": "code",
   "execution_count": 14,
   "id": "b37984ba",
   "metadata": {
    "scrolled": true
   },
   "outputs": [
    {
     "name": "stdout",
     "output_type": "stream",
     "text": [
      "                  High         Low        Open       Close      Volume  \\\n",
      "Date                                                                     \n",
      "2012-11-02   29.770000   29.330000   29.590000   29.500000  57131600.0   \n",
      "2012-11-05   29.740000   29.330000   29.620001   29.629999  38070800.0   \n",
      "2012-11-06   30.200001   29.610001   29.820000   29.860001  43401500.0   \n",
      "2012-11-07   29.830000   29.049999   29.530001   29.080000  57871800.0   \n",
      "2012-11-08   29.370001   28.799999   29.120001   28.809999  49841800.0   \n",
      "...                ...         ...         ...         ...         ...   \n",
      "2022-10-27  233.690002  225.779999  231.039993  226.750000  40424600.0   \n",
      "2022-10-28  236.600006  226.050003  226.240005  235.869995  40647700.0   \n",
      "2022-10-31  234.919998  231.149994  233.759995  232.130005  28357300.0   \n",
      "2022-11-01  235.740005  227.330002  234.600006  228.169998  30592300.0   \n",
      "2022-11-02  231.300003  220.039993  229.460007  220.100006  38407000.0   \n",
      "\n",
      "             Adj Close  \n",
      "Date                    \n",
      "2012-11-02   24.194622  \n",
      "2012-11-05   24.301243  \n",
      "2012-11-06   24.489874  \n",
      "2012-11-07   23.850155  \n",
      "2012-11-08   23.628712  \n",
      "...                ...  \n",
      "2022-10-27  226.750000  \n",
      "2022-10-28  235.869995  \n",
      "2022-10-31  232.130005  \n",
      "2022-11-01  228.169998  \n",
      "2022-11-02  220.100006  \n",
      "\n",
      "[2518 rows x 6 columns]\n"
     ]
    }
   ],
   "source": [
    "import pandas_datareader as pdr\n",
    "my_data = pdr.DataReader('MSFT', 'yahoo', '2012-11-02', '2022-11-02')\n",
    "#download dataset for use\n",
    "print(my_data)"
   ]
  },
  {
   "cell_type": "code",
   "execution_count": 15,
   "id": "e80d6221",
   "metadata": {},
   "outputs": [
    {
     "name": "stdout",
     "output_type": "stream",
     "text": [
      "Date\n",
      "2012-11-02     29.500000\n",
      "2012-11-05     29.629999\n",
      "2012-11-06     29.860001\n",
      "2012-11-07     29.080000\n",
      "2012-11-08     28.809999\n",
      "                 ...    \n",
      "2022-10-27    226.750000\n",
      "2022-10-28    235.869995\n",
      "2022-10-31    232.130005\n",
      "2022-11-01    228.169998\n",
      "2022-11-02    220.100006\n",
      "Name: Close, Length: 2518, dtype: float64\n"
     ]
    }
   ],
   "source": [
    "data_close = my_data['Close']\n",
    "#asiign close column to new variable \n",
    "print(data_close)"
   ]
  },
  {
   "cell_type": "markdown",
   "id": "539ff4b5",
   "metadata": {},
   "source": [
    "Plot the histogram of daily returns. Find a family of distributions which you think would model this distribution well. (Hint: what is the support of the daily returns? Is it symmetric or skewed? Has it got fat tails/positive excess kurtosis?)."
   ]
  },
  {
   "cell_type": "code",
   "execution_count": 19,
   "id": "5a9a66bb",
   "metadata": {},
   "outputs": [
    {
     "data": {
      "text/plain": [
       "<AxesSubplot:xlabel='Close', ylabel='Count'>"
      ]
     },
     "execution_count": 19,
     "metadata": {},
     "output_type": "execute_result"
    },
    {
     "data": {
      "image/png": "[encoded data removed]",
      "text/plain": [
       "<Figure size 432x288 with 1 Axes>"
      ]
     },
     "metadata": {
      "needs_background": "light"
     },
     "output_type": "display_data"
    }
   ],
   "source": [
    "returns_dd = ((data_close/data_close.shift(periods=1))-1) *100\n",
    "sns.histplot(returns_dd)\n",
    "#plot histogram of daily returns "
   ]
  },
  {
   "cell_type": "markdown",
   "id": "0a9248ae",
   "metadata": {},
   "source": [
    "The continuous distributions in scipy.stats have a method called fit which, given some data, computes the Maximum Likelihood Estimators for the parameters of the distribution. Use this method to find the optimal probability distribution in the family you have chosen, and plot the corresponding pdf alongside the histogram of observed daily returns."
   ]
  },
  {
   "cell_type": "code",
   "execution_count": 22,
   "id": "535ba405",
   "metadata": {},
   "outputs": [
    {
     "name": "stdout",
     "output_type": "stream",
     "text": [
      "8.807800316907603\n"
     ]
    }
   ],
   "source": [
    "q4_x = []\n",
    "for i in range(1,len(returns_dd)):\n",
    "    q4_x.append(returns_dd[i])\n",
    "\n",
    "print(kurtosis(q4_x,fisher= True))"
   ]
  },
  {
   "cell_type": "code",
   "execution_count": 29,
   "id": "422a1e61",
   "metadata": {},
   "outputs": [
    {
     "name": "stderr",
     "output_type": "stream",
     "text": [
      "/opt/anaconda3/lib/python3.9/site-packages/seaborn/_decorators.py:36: FutureWarning: Pass the following variables as keyword args: x, y. From version 0.12, the only valid positional argument will be `data`, and passing other arguments without an explicit keyword will result in an error or misinterpretation.\n",
      "  warnings.warn(\n"
     ]
    },
    {
     "data": {
      "text/plain": [
       "<AxesSubplot:ylabel='Density'>"
      ]
     },
     "execution_count": 29,
     "metadata": {},
     "output_type": "execute_result"
    },
    {
     "data": {
      "image/png": "[encoded data removed]",
      "text/plain": [
       "<Figure size 432x288 with 1 Axes>"
      ]
     },
     "metadata": {
      "needs_background": "light"
     },
     "output_type": "display_data"
    }
   ],
   "source": [
    "laplace.fit(q4_x)\n",
    "q4_z = laplace.pdf(q4_x)\n",
    "sns.histplot(q4_x, stat='density')\n",
    "sns.scatterplot(q4_x,q4_z)"
   ]
  },
  {
   "cell_type": "markdown",
   "id": "101f352c",
   "metadata": {},
   "source": [
    "Finally, plot the QQ plot of the daily returns data versus the model you have just fitted. Comment on the quality of your fit."
   ]
  },
  {
   "cell_type": "code",
   "execution_count": 30,
   "id": "40c1703d",
   "metadata": {},
   "outputs": [
    {
     "data": {
      "text/plain": [
       "<function matplotlib.pyplot.show(close=None, block=None)>"
      ]
     },
     "execution_count": 30,
     "metadata": {},
     "output_type": "execute_result"
    },
    {
     "data": {
      "image/png": "[encoded data removed]",
      "text/plain": [
       "<Figure size 432x288 with 1 Axes>"
      ]
     },
     "metadata": {
      "needs_background": "light"
     },
     "output_type": "display_data"
    }
   ],
   "source": [
    "probplot(q4_x, dist=\"laplace\", plot=pylab)\n",
    "pylab.show"
   ]
  },
  {
   "cell_type": "markdown",
   "id": "8c16c735",
   "metadata": {},
   "source": [
    "The Kurtosis is greater than 3, this proves a form of normal distribution. The best fit is laplace due to the height of the peak and thickness of the belt in place of using norm. Where both ends skew from the norm of the QQ plot this suggests a fat tail where the center follows he straight line."
   ]
  },
  {
   "cell_type": "code",
   "execution_count": null,
   "id": "e4a55a4d",
   "metadata": {},
   "outputs": [],
   "source": []
  }
 ],
 "metadata": {
  "kernelspec": {
   "display_name": "Python 3 (ipykernel)",
   "language": "python",
   "name": "python3"
  },
  "language_info": {
   "codemirror_mode": {
    "name": "ipython",
    "version": 3
   },
   "file_extension": ".py",
   "mimetype": "text/x-python",
   "name": "python",
   "nbconvert_exporter": "python",
   "pygments_lexer": "ipython3",
   "version": "3.9.12"
  }
 },
 "nbformat": 4,
 "nbformat_minor": 5
}

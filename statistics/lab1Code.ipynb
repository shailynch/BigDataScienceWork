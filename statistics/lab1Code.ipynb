{
 "cells": [
  {
   "cell_type": "raw",
   "id": "b9506946",
   "metadata": {},
   "source": [
    "Question 1\n",
    "(1 mark) Import the UN's Population Growth, Fertility and Mortality Indicators from http://data.un.org/_Docs/SYB/CSV/SYB64_246_202110_Population%20Growth,%20Fertility%20and%20Mortality%20Indicators.csv"
   ]
  },
  {
   "cell_type": "code",
   "execution_count": 1,
   "id": "1c9d2595",
   "metadata": {},
   "outputs": [
    {
     "data": {
      "application/javascript": [
       "\n",
       "            setTimeout(function() {\n",
       "                var nbb_cell_id = 1;\n",
       "                var nbb_unformatted_code = \"%load_ext nb_black\";\n",
       "                var nbb_formatted_code = \"%load_ext nb_black\";\n",
       "                var nbb_cells = Jupyter.notebook.get_cells();\n",
       "                for (var i = 0; i < nbb_cells.length; ++i) {\n",
       "                    if (nbb_cells[i].input_prompt_number == nbb_cell_id) {\n",
       "                        if (nbb_cells[i].get_text() == nbb_unformatted_code) {\n",
       "                             nbb_cells[i].set_text(nbb_formatted_code);\n",
       "                        }\n",
       "                        break;\n",
       "                    }\n",
       "                }\n",
       "            }, 500);\n",
       "            "
      ],
      "text/plain": [
       "<IPython.core.display.Javascript object>"
      ]
     },
     "metadata": {},
     "output_type": "display_data"
    }
   ],
   "source": []
  },
  {
   "cell_type": "code",
   "execution_count": 26,
   "id": "a20d900f",
   "metadata": {},
   "outputs": [
    {
     "data": {
      "text/html": [
       "<div>\n",
       "<style scoped>\n",
       "    .dataframe tbody tr th:only-of-type {\n",
       "        vertical-align: middle;\n",
       "    }\n",
       "\n",
       "    .dataframe tbody tr th {\n",
       "        vertical-align: top;\n",
       "    }\n",
       "\n",
       "    .dataframe thead th {\n",
       "        text-align: right;\n",
       "    }\n",
       "</style>\n",
       "<table border=\"1\" class=\"dataframe\">\n",
       "  <thead>\n",
       "    <tr style=\"text-align: right;\">\n",
       "      <th></th>\n",
       "      <th>Region/Country/Area</th>\n",
       "      <th>Unnamed: 1</th>\n",
       "      <th>Year</th>\n",
       "      <th>Series</th>\n",
       "      <th>Value</th>\n",
       "      <th>Footnotes</th>\n",
       "      <th>Source</th>\n",
       "    </tr>\n",
       "  </thead>\n",
       "  <tbody>\n",
       "    <tr>\n",
       "      <th>0</th>\n",
       "      <td>1</td>\n",
       "      <td>Total, all countries or areas</td>\n",
       "      <td>2010</td>\n",
       "      <td>Population annual rate of increase (percent)</td>\n",
       "      <td>1.2</td>\n",
       "      <td>Data refers to a 5-year period preceding the r...</td>\n",
       "      <td>United Nations Population Division, New York, ...</td>\n",
       "    </tr>\n",
       "    <tr>\n",
       "      <th>1</th>\n",
       "      <td>1</td>\n",
       "      <td>Total, all countries or areas</td>\n",
       "      <td>2010</td>\n",
       "      <td>Total fertility rate (children per women)</td>\n",
       "      <td>2.6</td>\n",
       "      <td>Data refers to a 5-year period preceding the r...</td>\n",
       "      <td>United Nations Population Division, New York, ...</td>\n",
       "    </tr>\n",
       "    <tr>\n",
       "      <th>2</th>\n",
       "      <td>1</td>\n",
       "      <td>Total, all countries or areas</td>\n",
       "      <td>2010</td>\n",
       "      <td>Infant mortality for both sexes (per 1,000 liv...</td>\n",
       "      <td>41.0</td>\n",
       "      <td>Data refers to a 5-year period preceding the r...</td>\n",
       "      <td>United Nations Statistics Division, New York, ...</td>\n",
       "    </tr>\n",
       "    <tr>\n",
       "      <th>3</th>\n",
       "      <td>1</td>\n",
       "      <td>Total, all countries or areas</td>\n",
       "      <td>2010</td>\n",
       "      <td>Maternal mortality ratio (deaths per 100,000 p...</td>\n",
       "      <td>248</td>\n",
       "      <td>NaN</td>\n",
       "      <td>World Health Organization (WHO), the United Na...</td>\n",
       "    </tr>\n",
       "    <tr>\n",
       "      <th>4</th>\n",
       "      <td>1</td>\n",
       "      <td>Total, all countries or areas</td>\n",
       "      <td>2010</td>\n",
       "      <td>Life expectancy at birth for both sexes (years)</td>\n",
       "      <td>68.9</td>\n",
       "      <td>Data refers to a 5-year period preceding the r...</td>\n",
       "      <td>United Nations Population Division, New York, ...</td>\n",
       "    </tr>\n",
       "    <tr>\n",
       "      <th>...</th>\n",
       "      <td>...</td>\n",
       "      <td>...</td>\n",
       "      <td>...</td>\n",
       "      <td>...</td>\n",
       "      <td>...</td>\n",
       "      <td>...</td>\n",
       "      <td>...</td>\n",
       "    </tr>\n",
       "    <tr>\n",
       "      <th>4894</th>\n",
       "      <td>716</td>\n",
       "      <td>Zimbabwe</td>\n",
       "      <td>2020</td>\n",
       "      <td>Total fertility rate (children per women)</td>\n",
       "      <td>3.6</td>\n",
       "      <td>Data refers to a 5-year period preceding the r...</td>\n",
       "      <td>United Nations Population Division, New York, ...</td>\n",
       "    </tr>\n",
       "    <tr>\n",
       "      <th>4895</th>\n",
       "      <td>716</td>\n",
       "      <td>Zimbabwe</td>\n",
       "      <td>2020</td>\n",
       "      <td>Infant mortality for both sexes (per 1,000 liv...</td>\n",
       "      <td>38.7</td>\n",
       "      <td>Data refers to a 5-year period preceding the r...</td>\n",
       "      <td>United Nations Statistics Division, New York, ...</td>\n",
       "    </tr>\n",
       "    <tr>\n",
       "      <th>4896</th>\n",
       "      <td>716</td>\n",
       "      <td>Zimbabwe</td>\n",
       "      <td>2020</td>\n",
       "      <td>Life expectancy at birth for both sexes (years)</td>\n",
       "      <td>60.8</td>\n",
       "      <td>Data refers to a 5-year period preceding the r...</td>\n",
       "      <td>United Nations Population Division, New York, ...</td>\n",
       "    </tr>\n",
       "    <tr>\n",
       "      <th>4897</th>\n",
       "      <td>716</td>\n",
       "      <td>Zimbabwe</td>\n",
       "      <td>2020</td>\n",
       "      <td>Life expectancy at birth for males (years)</td>\n",
       "      <td>59.2</td>\n",
       "      <td>Data refers to a 5-year period preceding the r...</td>\n",
       "      <td>United Nations Population Division, New York, ...</td>\n",
       "    </tr>\n",
       "    <tr>\n",
       "      <th>4898</th>\n",
       "      <td>716</td>\n",
       "      <td>Zimbabwe</td>\n",
       "      <td>2020</td>\n",
       "      <td>Life expectancy at birth for females (years)</td>\n",
       "      <td>62.2</td>\n",
       "      <td>Data refers to a 5-year period preceding the r...</td>\n",
       "      <td>United Nations Population Division, New York, ...</td>\n",
       "    </tr>\n",
       "  </tbody>\n",
       "</table>\n",
       "<p>4899 rows \u00d7 7 columns</p>\n",
       "</div>"
      ],
      "text/plain": [
       "      Region/Country/Area                     Unnamed: 1  Year  \\\n",
       "0                       1  Total, all countries or areas  2010   \n",
       "1                       1  Total, all countries or areas  2010   \n",
       "2                       1  Total, all countries or areas  2010   \n",
       "3                       1  Total, all countries or areas  2010   \n",
       "4                       1  Total, all countries or areas  2010   \n",
       "...                   ...                            ...   ...   \n",
       "4894                  716                       Zimbabwe  2020   \n",
       "4895                  716                       Zimbabwe  2020   \n",
       "4896                  716                       Zimbabwe  2020   \n",
       "4897                  716                       Zimbabwe  2020   \n",
       "4898                  716                       Zimbabwe  2020   \n",
       "\n",
       "                                                 Series Value  \\\n",
       "0          Population annual rate of increase (percent)   1.2   \n",
       "1             Total fertility rate (children per women)   2.6   \n",
       "2     Infant mortality for both sexes (per 1,000 liv...  41.0   \n",
       "3     Maternal mortality ratio (deaths per 100,000 p...   248   \n",
       "4       Life expectancy at birth for both sexes (years)  68.9   \n",
       "...                                                 ...   ...   \n",
       "4894          Total fertility rate (children per women)   3.6   \n",
       "4895  Infant mortality for both sexes (per 1,000 liv...  38.7   \n",
       "4896    Life expectancy at birth for both sexes (years)  60.8   \n",
       "4897         Life expectancy at birth for males (years)  59.2   \n",
       "4898       Life expectancy at birth for females (years)  62.2   \n",
       "\n",
       "                                              Footnotes  \\\n",
       "0     Data refers to a 5-year period preceding the r...   \n",
       "1     Data refers to a 5-year period preceding the r...   \n",
       "2     Data refers to a 5-year period preceding the r...   \n",
       "3                                                   NaN   \n",
       "4     Data refers to a 5-year period preceding the r...   \n",
       "...                                                 ...   \n",
       "4894  Data refers to a 5-year period preceding the r...   \n",
       "4895  Data refers to a 5-year period preceding the r...   \n",
       "4896  Data refers to a 5-year period preceding the r...   \n",
       "4897  Data refers to a 5-year period preceding the r...   \n",
       "4898  Data refers to a 5-year period preceding the r...   \n",
       "\n",
       "                                                 Source  \n",
       "0     United Nations Population Division, New York, ...  \n",
       "1     United Nations Population Division, New York, ...  \n",
       "2     United Nations Statistics Division, New York, ...  \n",
       "3     World Health Organization (WHO), the United Na...  \n",
       "4     United Nations Population Division, New York, ...  \n",
       "...                                                 ...  \n",
       "4894  United Nations Population Division, New York, ...  \n",
       "4895  United Nations Statistics Division, New York, ...  \n",
       "4896  United Nations Population Division, New York, ...  \n",
       "4897  United Nations Population Division, New York, ...  \n",
       "4898  United Nations Population Division, New York, ...  \n",
       "\n",
       "[4899 rows x 7 columns]"
      ]
     },
     "execution_count": 26,
     "metadata": {},
     "output_type": "execute_result"
    }
   ],
   "source": [
    "import pandas as pd  # import panddas for dataframe\n",
    "import numpy as np  # import numpy for operations and arrays\n",
    "import matplotlib.pyplot as plt  # import matplotlib for plotting\n",
    "\n",
    "dfURL = \"\"\"SYB64_246_202110_Population Growth, Fertility and Mortality Indicators.csv\"\"\"\n",
    "df = pd.read_csv(dfURL, encoding=\"ISO-8859-1\", header=1)  # import csv and add encoding\n",
    "df  # print the data frame\n"
   ]
  },
  {
   "cell_type": "raw",
   "id": "3f97a8d1",
   "metadata": {},
   "source": [
    "Question 2\n",
    "(2 marks) Select the life expectancy data for both sexes (years) series for countries only (i.e. remove region/continent-wise data). Format this data as a numpy array for processing. Print the size N of your dataset."
   ]
  },
  {
   "cell_type": "code",
   "execution_count": 16,
   "id": "5ab5b43f",
   "metadata": {},
   "outputs": [
    {
     "data": {
      "text/html": [
       "<div>\n",
       "<style scoped>\n",
       "    .dataframe tbody tr th:only-of-type {\n",
       "        vertical-align: middle;\n",
       "    }\n",
       "\n",
       "    .dataframe tbody tr th {\n",
       "        vertical-align: top;\n",
       "    }\n",
       "\n",
       "    .dataframe thead th {\n",
       "        text-align: right;\n",
       "    }\n",
       "</style>\n",
       "<table border=\"1\" class=\"dataframe\">\n",
       "  <thead>\n",
       "    <tr style=\"text-align: right;\">\n",
       "      <th></th>\n",
       "      <th>Region/Country/Area</th>\n",
       "      <th>Unnamed: 1</th>\n",
       "      <th>Year</th>\n",
       "      <th>Series</th>\n",
       "      <th>Value</th>\n",
       "      <th>Footnotes</th>\n",
       "      <th>Source</th>\n",
       "    </tr>\n",
       "  </thead>\n",
       "  <tbody>\n",
       "    <tr>\n",
       "      <th>628</th>\n",
       "      <td>4</td>\n",
       "      <td>Afghanistan</td>\n",
       "      <td>2010</td>\n",
       "      <td>Life expectancy at birth for both sexes (years)</td>\n",
       "      <td>59.6</td>\n",
       "      <td>Data refers to a 5-year period preceding the r...</td>\n",
       "      <td>United Nations Population Division, New York, ...</td>\n",
       "    </tr>\n",
       "    <tr>\n",
       "      <th>635</th>\n",
       "      <td>4</td>\n",
       "      <td>Afghanistan</td>\n",
       "      <td>2015</td>\n",
       "      <td>Life expectancy at birth for both sexes (years)</td>\n",
       "      <td>62.3</td>\n",
       "      <td>Data refers to a 5-year period preceding the r...</td>\n",
       "      <td>United Nations Population Division, New York, ...</td>\n",
       "    </tr>\n",
       "    <tr>\n",
       "      <th>642</th>\n",
       "      <td>4</td>\n",
       "      <td>Afghanistan</td>\n",
       "      <td>2020</td>\n",
       "      <td>Life expectancy at birth for both sexes (years)</td>\n",
       "      <td>64.3</td>\n",
       "      <td>Data refers to a 5-year period preceding the r...</td>\n",
       "      <td>United Nations Population Division, New York, ...</td>\n",
       "    </tr>\n",
       "    <tr>\n",
       "      <th>649</th>\n",
       "      <td>8</td>\n",
       "      <td>Albania</td>\n",
       "      <td>2010</td>\n",
       "      <td>Life expectancy at birth for both sexes (years)</td>\n",
       "      <td>75.6</td>\n",
       "      <td>Data refers to a 5-year period preceding the r...</td>\n",
       "      <td>United Nations Population Division, New York, ...</td>\n",
       "    </tr>\n",
       "    <tr>\n",
       "      <th>656</th>\n",
       "      <td>8</td>\n",
       "      <td>Albania</td>\n",
       "      <td>2015</td>\n",
       "      <td>Life expectancy at birth for both sexes (years)</td>\n",
       "      <td>77.5</td>\n",
       "      <td>Data refers to a 5-year period preceding the r...</td>\n",
       "      <td>United Nations Population Division, New York, ...</td>\n",
       "    </tr>\n",
       "    <tr>\n",
       "      <th>...</th>\n",
       "      <td>...</td>\n",
       "      <td>...</td>\n",
       "      <td>...</td>\n",
       "      <td>...</td>\n",
       "      <td>...</td>\n",
       "      <td>...</td>\n",
       "      <td>...</td>\n",
       "    </tr>\n",
       "    <tr>\n",
       "      <th>4868</th>\n",
       "      <td>894</td>\n",
       "      <td>Zambia</td>\n",
       "      <td>2015</td>\n",
       "      <td>Life expectancy at birth for both sexes (years)</td>\n",
       "      <td>59.3</td>\n",
       "      <td>Data refers to a 5-year period preceding the r...</td>\n",
       "      <td>United Nations Population Division, New York, ...</td>\n",
       "    </tr>\n",
       "    <tr>\n",
       "      <th>4875</th>\n",
       "      <td>894</td>\n",
       "      <td>Zambia</td>\n",
       "      <td>2020</td>\n",
       "      <td>Life expectancy at birth for both sexes (years)</td>\n",
       "      <td>63.3</td>\n",
       "      <td>Data refers to a 5-year period preceding the r...</td>\n",
       "      <td>United Nations Population Division, New York, ...</td>\n",
       "    </tr>\n",
       "    <tr>\n",
       "      <th>4882</th>\n",
       "      <td>716</td>\n",
       "      <td>Zimbabwe</td>\n",
       "      <td>2010</td>\n",
       "      <td>Life expectancy at birth for both sexes (years)</td>\n",
       "      <td>45.0</td>\n",
       "      <td>Data refers to a 5-year period preceding the r...</td>\n",
       "      <td>United Nations Population Division, New York, ...</td>\n",
       "    </tr>\n",
       "    <tr>\n",
       "      <th>4889</th>\n",
       "      <td>716</td>\n",
       "      <td>Zimbabwe</td>\n",
       "      <td>2015</td>\n",
       "      <td>Life expectancy at birth for both sexes (years)</td>\n",
       "      <td>56.7</td>\n",
       "      <td>Data refers to a 5-year period preceding the r...</td>\n",
       "      <td>United Nations Population Division, New York, ...</td>\n",
       "    </tr>\n",
       "    <tr>\n",
       "      <th>4896</th>\n",
       "      <td>716</td>\n",
       "      <td>Zimbabwe</td>\n",
       "      <td>2020</td>\n",
       "      <td>Life expectancy at birth for both sexes (years)</td>\n",
       "      <td>60.8</td>\n",
       "      <td>Data refers to a 5-year period preceding the r...</td>\n",
       "      <td>United Nations Population Division, New York, ...</td>\n",
       "    </tr>\n",
       "  </tbody>\n",
       "</table>\n",
       "<p>603 rows \u00d7 7 columns</p>\n",
       "</div>"
      ],
      "text/plain": [
       "      Region/Country/Area   Unnamed: 1  Year  \\\n",
       "628                     4  Afghanistan  2010   \n",
       "635                     4  Afghanistan  2015   \n",
       "642                     4  Afghanistan  2020   \n",
       "649                     8      Albania  2010   \n",
       "656                     8      Albania  2015   \n",
       "...                   ...          ...   ...   \n",
       "4868                  894       Zambia  2015   \n",
       "4875                  894       Zambia  2020   \n",
       "4882                  716     Zimbabwe  2010   \n",
       "4889                  716     Zimbabwe  2015   \n",
       "4896                  716     Zimbabwe  2020   \n",
       "\n",
       "                                               Series Value  \\\n",
       "628   Life expectancy at birth for both sexes (years)  59.6   \n",
       "635   Life expectancy at birth for both sexes (years)  62.3   \n",
       "642   Life expectancy at birth for both sexes (years)  64.3   \n",
       "649   Life expectancy at birth for both sexes (years)  75.6   \n",
       "656   Life expectancy at birth for both sexes (years)  77.5   \n",
       "...                                               ...   ...   \n",
       "4868  Life expectancy at birth for both sexes (years)  59.3   \n",
       "4875  Life expectancy at birth for both sexes (years)  63.3   \n",
       "4882  Life expectancy at birth for both sexes (years)  45.0   \n",
       "4889  Life expectancy at birth for both sexes (years)  56.7   \n",
       "4896  Life expectancy at birth for both sexes (years)  60.8   \n",
       "\n",
       "                                              Footnotes  \\\n",
       "628   Data refers to a 5-year period preceding the r...   \n",
       "635   Data refers to a 5-year period preceding the r...   \n",
       "642   Data refers to a 5-year period preceding the r...   \n",
       "649   Data refers to a 5-year period preceding the r...   \n",
       "656   Data refers to a 5-year period preceding the r...   \n",
       "...                                                 ...   \n",
       "4868  Data refers to a 5-year period preceding the r...   \n",
       "4875  Data refers to a 5-year period preceding the r...   \n",
       "4882  Data refers to a 5-year period preceding the r...   \n",
       "4889  Data refers to a 5-year period preceding the r...   \n",
       "4896  Data refers to a 5-year period preceding the r...   \n",
       "\n",
       "                                                 Source  \n",
       "628   United Nations Population Division, New York, ...  \n",
       "635   United Nations Population Division, New York, ...  \n",
       "642   United Nations Population Division, New York, ...  \n",
       "649   United Nations Population Division, New York, ...  \n",
       "656   United Nations Population Division, New York, ...  \n",
       "...                                                 ...  \n",
       "4868  United Nations Population Division, New York, ...  \n",
       "4875  United Nations Population Division, New York, ...  \n",
       "4882  United Nations Population Division, New York, ...  \n",
       "4889  United Nations Population Division, New York, ...  \n",
       "4896  United Nations Population Division, New York, ...  \n",
       "\n",
       "[603 rows x 7 columns]"
      ]
     },
     "execution_count": 16,
     "metadata": {},
     "output_type": "execute_result"
    }
   ],
   "source": [
    "useableData = countryData.loc[625:]  # select values from index 625 onwards\n",
    "countryData = df.loc[\n",
    "    df[\"Series\"] == \"Life expectancy at birth for both sexes (years)\"\n",
    "]  # index all countries onwards\n",
    "useableData  # display new dataframe\n"
   ]
  },
  {
   "cell_type": "code",
   "execution_count": 17,
   "id": "ee9dcf9b",
   "metadata": {},
   "outputs": [],
   "source": [
    "nparray = useableData.to_numpy()  # convert to numpy array\n"
   ]
  },
  {
   "cell_type": "code",
   "execution_count": 18,
   "id": "b7564b68",
   "metadata": {},
   "outputs": [
    {
     "data": {
      "text/plain": [
       "4221"
      ]
     },
     "execution_count": 18,
     "metadata": {},
     "output_type": "execute_result"
    }
   ],
   "source": [
    "nparray.size\n"
   ]
  },
  {
   "cell_type": "code",
   "execution_count": 19,
   "id": "c5a1bfcc",
   "metadata": {},
   "outputs": [
    {
     "data": {
      "text/plain": [
       "(603, 7)"
      ]
     },
     "execution_count": 19,
     "metadata": {},
     "output_type": "execute_result"
    }
   ],
   "source": []
  },
  {
   "cell_type": "code",
   "execution_count": 28,
   "id": "66288fc4",
   "metadata": {},
   "outputs": [],
   "source": [
    "useableData.Value = useableData.Value.astype(float)\n"
   ]
  },
  {
   "cell_type": "code",
   "execution_count": 32,
   "id": "9e14d32c",
   "metadata": {},
   "outputs": [],
   "source": [
    "getMean = useableData[\"Value\"].mean()  # Find the mean of the values\n",
    "getMedian = useableData[\"Value\"].median()  # find the median of the Value column\n"
   ]
  },
  {
   "cell_type": "code",
   "execution_count": 43,
   "id": "feb932b6",
   "metadata": {},
   "outputs": [
    {
     "data": {
      "text/plain": [
       "<matplotlib.legend.Legend at 0x7fd431fe2c70>"
      ]
     },
     "execution_count": 43,
     "metadata": {},
     "output_type": "execute_result"
    },
    {
     "data": {
      "image/png": "[encoded data removed]",
      "text/plain": [
       "<Figure size 432x288 with 1 Axes>"
      ]
     },
     "metadata": {
      "needs_background": "light"
     },
     "output_type": "display_data"
    }
   ],
   "source": [
    "plt.title(\"Life Expectancy for both sexes(Years)\")\n",
    "plt.hist(\n",
    "    useableData[\"Value\"], bins=10,\n",
    ")\n",
    "plt.xlabel(\"Years\")  # X Label\n",
    "plt.ylabel(\"Count\")  # Y Label\n",
    "plt.axvline(getMedian, color=\"k\", linestyle=\"dashed\", linewidth=2.5)\n",
    "plt.axvline(getMean, color=\"y\", linestyle=\"dashed\", linewidth=2.5)\n",
    "plt.legend({\"Mean\": getMean, \"Median\": getMedian})\n"
   ]
  },
  {
   "cell_type": "raw",
   "id": "699131b1",
   "metadata": {},
   "source": [
    "Question 4\n",
    " \n",
    "(2 marks) Plot a histogram of the data, add vertical lines for the mean and median of the data. Comment\n",
    "briefly on what the values of the mean and the median tell us about the distribution of the data."
   ]
  },
  {
   "cell_type": "code",
   "execution_count": 51,
   "id": "3390c33c",
   "metadata": {},
   "outputs": [
    {
     "data": {
      "text/plain": [
       "<matplotlib.lines.Line2D at 0x7fd4320276a0>"
      ]
     },
     "execution_count": 51,
     "metadata": {},
     "output_type": "execute_result"
    },
    {
     "data": {
      "image/png": "[encoded data removed]",
      "text/plain": [
       "<Figure size 432x288 with 1 Axes>"
      ]
     },
     "metadata": {
      "needs_background": "light"
     },
     "output_type": "display_data"
    }
   ],
   "source": [
    "q75, q25 = np.percentile(useableData[\"Value\"], [25, 75])\n",
    "standarddev = useableData[\"Value\"].std()\n",
    "meanminussig = getMean - standarddev\n",
    "meansumsig = getMean + standarddev\n",
    "plt.hist(useableData[\"Value\"], bins=10)\n",
    "plt.title(\"Life Expectancy\")\n",
    "plt.ylabel(\"Count\")\n",
    "plt.xlabel(\"Years\")\n",
    "plt.axvline(q25, color=\"r\", linestyle=\"dashed\", linewidth=2.5)\n",
    "plt.axvline(meanminussig, color=\"y\", linestyle=\"dashed\", linewidth=2.5)\n",
    "plt.axvline(q75, color=\"m\", linestyle=\"dashed\", linewidth=2)\n",
    "plt.axvline(meansumsig, color=\"k\", linestyle=\"dashed\", linewidth=2.5)\n",
    "plt.legend\n"
   ]
  }
 ],
 "metadata": {
  "kernelspec": {
   "display_name": "Python 3 (ipykernel)",
   "language": "python",
   "name": "python3"
  },
  "language_info": {
   "codemirror_mode": {
    "name": "ipython",
    "version": 3
   },
   "file_extension": ".py",
   "mimetype": "text/x-python",
   "name": "python",
   "nbconvert_exporter": "python",
   "pygments_lexer": "ipython3",
   "version": "3.9.12"
  }
 },
 "nbformat": 4,
 "nbformat_minor": 5
}